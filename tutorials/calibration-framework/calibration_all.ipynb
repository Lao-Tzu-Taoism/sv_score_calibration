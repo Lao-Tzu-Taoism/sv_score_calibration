{
 "cells": [
  {
   "cell_type": "code",
   "execution_count": 1,
   "metadata": {},
   "outputs": [
    {
     "name": "stdout",
     "output_type": "stream",
     "text": [
      "Requirement already satisfied: netcal in /nfs/project/zhanghui/spk/voxceleb_trainer/tools/venv/lib/python3.6/site-packages (1.1.2)\n",
      "Requirement already satisfied: scikit-learn>=0.20.0 in /nfs/project/zhanghui/spk/voxceleb_trainer/tools/venv/lib/python3.6/site-packages (from netcal) (0.23.1)\n",
      "Requirement already satisfied: matplotlib>=3.1 in /nfs/project/zhanghui/spk/voxceleb_trainer/tools/venv/lib/python3.6/site-packages (from netcal) (3.3.1)\n",
      "Requirement already satisfied: torch>=1.1 in /nfs/project/zhanghui/spk/voxceleb_trainer/tools/venv/lib/python3.6/site-packages (from netcal) (1.5.1+cu101)\n",
      "Requirement already satisfied: scipy>=1.3 in /nfs/project/zhanghui/spk/voxceleb_trainer/tools/venv/lib/python3.6/site-packages (from netcal) (1.5.1)\n",
      "Requirement already satisfied: tqdm in /nfs/project/zhanghui/spk/voxceleb_trainer/tools/venv/lib/python3.6/site-packages (from netcal) (4.48.0)\n",
      "Requirement already satisfied: numpy>=1.15 in /nfs/project/zhanghui/spk/voxceleb_trainer/tools/venv/lib/python3.6/site-packages (from netcal) (1.19.0)\n",
      "Requirement already satisfied: threadpoolctl>=2.0.0 in /nfs/project/zhanghui/spk/voxceleb_trainer/tools/venv/lib/python3.6/site-packages (from scikit-learn>=0.20.0->netcal) (2.1.0)\n",
      "Requirement already satisfied: joblib>=0.11 in /nfs/project/zhanghui/spk/voxceleb_trainer/tools/venv/lib/python3.6/site-packages (from scikit-learn>=0.20.0->netcal) (0.16.0)\n",
      "Requirement already satisfied: cycler>=0.10 in /nfs/project/zhanghui/spk/voxceleb_trainer/tools/venv/lib/python3.6/site-packages (from matplotlib>=3.1->netcal) (0.10.0)\n",
      "Requirement already satisfied: kiwisolver>=1.0.1 in /nfs/project/zhanghui/spk/voxceleb_trainer/tools/venv/lib/python3.6/site-packages (from matplotlib>=3.1->netcal) (1.2.0)\n",
      "Requirement already satisfied: python-dateutil>=2.1 in /nfs/project/zhanghui/spk/voxceleb_trainer/tools/venv/lib/python3.6/site-packages (from matplotlib>=3.1->netcal) (2.8.1)\n",
      "Requirement already satisfied: pillow>=6.2.0 in /nfs/project/zhanghui/spk/voxceleb_trainer/tools/venv/lib/python3.6/site-packages (from matplotlib>=3.1->netcal) (7.2.0)\n",
      "Requirement already satisfied: certifi>=2020.06.20 in /nfs/project/zhanghui/spk/voxceleb_trainer/tools/venv/lib/python3.6/site-packages (from matplotlib>=3.1->netcal) (2020.6.20)\n",
      "Requirement already satisfied: pyparsing!=2.0.4,!=2.1.2,!=2.1.6,>=2.0.3 in /nfs/project/zhanghui/spk/voxceleb_trainer/tools/venv/lib/python3.6/site-packages (from matplotlib>=3.1->netcal) (2.4.7)\n",
      "Requirement already satisfied: future in /nfs/project/zhanghui/spk/voxceleb_trainer/tools/venv/lib/python3.6/site-packages (from torch>=1.1->netcal) (0.18.2)\n",
      "Requirement already satisfied: six in /nfs/project/zhanghui/spk/voxceleb_trainer/tools/venv/lib/python3.6/site-packages (from cycler>=0.10->matplotlib>=3.1->netcal) (1.15.0)\n"
     ]
    }
   ],
   "source": [
    "# run `jupyter notebook` under project root dir\n",
    "# calibration-framework\n",
    "# https://github.com/fabiankueppers/calibration-framework.git\n",
    "#!pip install --upgrade pip\n",
    "!pip install netcal"
   ]
  },
  {
   "cell_type": "code",
   "execution_count": 2,
   "metadata": {},
   "outputs": [
    {
     "data": {
      "text/plain": [
       "'/nfs/project/zhanghui/spk/voxceleb_trainer/tools/venv/bin/python'"
      ]
     },
     "execution_count": 2,
     "metadata": {},
     "output_type": "execute_result"
    }
   ],
   "source": [
    "import sys\n",
    "#sys.path.insert(0, '/nfs/project/zhanghui/spk/voxceleb_trainer/tools/venv/bin/')\n",
    "sys.executable"
   ]
  },
  {
   "cell_type": "code",
   "execution_count": 3,
   "metadata": {},
   "outputs": [],
   "source": [
    "import numpy as np\n",
    "import matplotlib\n",
    "%matplotlib inline\n",
    "import matplotlib.pyplot as plt"
   ]
  },
  {
   "cell_type": "code",
   "execution_count": 4,
   "metadata": {},
   "outputs": [
    {
     "name": "stdout",
     "output_type": "stream",
     "text": [
      "calibration.ipynb  veri_test.txt\r\n",
      "lr_decay.ipynb\t   VoxCeleb1-O_aamsoftmax_eer1.7338.score\r\n"
     ]
    }
   ],
   "source": [
    "!ls"
   ]
  },
  {
   "cell_type": "code",
   "execution_count": 23,
   "metadata": {},
   "outputs": [],
   "source": [
    "fname='VoxCeleb1-O_aamsoftmax_eer1.7338.score'\n",
    "scores = {}\n",
    "with open(fname, 'r') as f:\n",
    "    for line in f:\n",
    "        s, k1, k2 = line.strip().split()\n",
    "        scores[k1+' ' + k2] = float(s)\n",
    "#print(scores)"
   ]
  },
  {
   "cell_type": "code",
   "execution_count": 24,
   "metadata": {},
   "outputs": [
    {
     "name": "stdout",
     "output_type": "stream",
     "text": [
      "0.5291130542755127\n"
     ]
    }
   ],
   "source": [
    "#print(scores.keys())\n",
    "print(scores['id10270/x6uYqmx31kE/00001.wav id10270/8jEAjG6SegY/00008.wav'])"
   ]
  },
  {
   "cell_type": "code",
   "execution_count": 28,
   "metadata": {},
   "outputs": [
    {
     "name": "stdout",
     "output_type": "stream",
     "text": [
      "1\n"
     ]
    }
   ],
   "source": [
    "fname = 'veri_test.txt'\n",
    "labels = {}\n",
    "with open(fname, 'r') as f:\n",
    "    for line in f:\n",
    "        s, k1, k2 = line.strip().split()\n",
    "        labels[k1+' ' + k2] = int(s)\n",
    "print(labels['id10270/x6uYqmx31kE/00001.wav id10270/8jEAjG6SegY/00008.wav'])"
   ]
  },
  {
   "cell_type": "code",
   "execution_count": null,
   "metadata": {},
   "outputs": [],
   "source": []
  },
  {
   "cell_type": "code",
   "execution_count": 37,
   "metadata": {},
   "outputs": [
    {
     "name": "stdout",
     "output_type": "stream",
     "text": [
      "0.5\n",
      "0.6125396134409151\n"
     ]
    }
   ],
   "source": [
    "# scaling\n",
    "#!pip list\n",
    "def sigmoid(a):\n",
    "    return 1 / (1 + np.exp(-a))\n",
    "\n",
    "print(sigmoid(0))\n",
    "print(sigmoid(0.458))"
   ]
  },
  {
   "cell_type": "code",
   "execution_count": 62,
   "metadata": {},
   "outputs": [],
   "source": [
    "from sklearn.metrics import roc_curve\n",
    "from scipy.optimize import brentq\n",
    "from scipy.interpolate import interp1d\n",
    "from operator import itemgetter\n",
    "def compute_eer(y_score, y, pos=1):\n",
    "    # y denotes groundtruth scores,\n",
    "    # y_score denotes the prediction scores.\n",
    "    fpr, tpr, thresholds = roc_curve(y, y_score, pos_label=pos)\n",
    "    eer = brentq(lambda x : 1. - x - interp1d(fpr, tpr)(x), 0., 1.) \n",
    "    thresh = interp1d(fpr, thresholds)(eer)\n",
    "    print(f\"EER : {eer*100:.4f} (threshold {thresh:.4f})\")\n",
    "    return eer, thresh, fpr, tpr \n",
    "\n",
    "def ComputeErrorRates(scores, labels):\n",
    "\n",
    "    # Sort the scores from smallest to largest, and also get the corresponding\n",
    "    # indexes of the sorted scores.  We will treat the sorted scores as the\n",
    "    # thresholds at which the the error-rates are evaluated.\n",
    "    sorted_indexes, thresholds = zip(*sorted(\n",
    "        [(index, threshold) for index, threshold in enumerate(scores)],\n",
    "        key=itemgetter(1)))\n",
    "    sorted_labels = []\n",
    "    labels = [labels[i] for i in sorted_indexes]\n",
    "    fnrs = []\n",
    "    fprs = []\n",
    "\n",
    "    # At the end of this loop, fnrs[i] is the number of errors made by\n",
    "    # incorrectly rejecting scores less than thresholds[i]. And, fprs[i]\n",
    "    # is the total number of times that we have correctly accepted scores\n",
    "    # greater than thresholds[i].\n",
    "    for i in range(0, len(labels)):\n",
    "        if i == 0:\n",
    "            fnrs.append(labels[i])\n",
    "            fprs.append(1 - labels[i])\n",
    "        else:\n",
    "            fnrs.append(fnrs[i-1] + labels[i])\n",
    "            fprs.append(fprs[i-1] + 1 - labels[i])\n",
    "    fnrs_norm = sum(labels)\n",
    "    fprs_norm = len(labels) - fnrs_norm\n",
    "\n",
    "    # Now divide by the total number of false negative errors to\n",
    "    # obtain the false positive rates across all thresholds\n",
    "    fnrs = [x / float(fnrs_norm) for x in fnrs]\n",
    "\n",
    "    # Divide by the total number of corret positives to get the\n",
    "    # true positive rate.  Subtract these quantities from 1 to\n",
    "    # get the false positive rates.\n",
    "    fprs = [1 - x / float(fprs_norm) for x in fprs]\n",
    "    return fnrs, fprs, thresholds\n",
    "\n",
    "# Computes the minimum of the detection cost function.  The comments refer to\n",
    "# equations in Section 3 of the NIST 2016 Speaker Recognition Evaluation Plan.\n",
    "def ComputeMinDcf(fnrs, fprs, thresholds, p_target=0.05, c_miss=1, c_fa=1):\n",
    "    min_c_det = float(\"inf\")\n",
    "    min_c_det_threshold = thresholds[0]\n",
    "    for i in range(0, len(fnrs)):\n",
    "        # See Equation (2).  it is a weighted sum of false negative\n",
    "        # and false positive errors.\n",
    "        c_det = c_miss * fnrs[i] * p_target + c_fa * fprs[i] * (1 - p_target)\n",
    "        if c_det < min_c_det:\n",
    "            min_c_det = c_det\n",
    "            min_c_det_threshold = thresholds[i]\n",
    "    # See Equations (3) and (4).  Now we normalize the cost.\n",
    "    c_def = min(c_miss * p_target, c_fa * (1 - p_target))\n",
    "    min_dcf = min_c_det / c_def\n",
    "    return min_dcf, min_c_det_threshold\n",
    "\n",
    "def compute_minDCF(scores, labels):\n",
    "    fnrs, fprs, thresholds = ComputeErrorRates(scores, labels)\n",
    "    c_miss=1\n",
    "    c_fa = 1\n",
    "    p_target = 0.05\n",
    "    mindcf, threshold_default = ComputeMinDcf(fnrs, fprs, thresholds, \n",
    "        p_target=p_target, c_miss=c_miss, c_fa=c_fa)\n",
    "    print(f\"minDCF : {mindcf:.4f} (threshold {threshold_default:.4f} p-target={p_target}, c-miss={c_miss}, c-fa={c_fa})\")                                                                                                                                       \n",
    "    return mindcf, threshold_default"
   ]
  },
  {
   "cell_type": "code",
   "execution_count": null,
   "metadata": {},
   "outputs": [],
   "source": []
  },
  {
   "cell_type": "code",
   "execution_count": 63,
   "metadata": {},
   "outputs": [
    {
     "name": "stdout",
     "output_type": "stream",
     "text": [
      "EER : 1.5642 (threshold 0.2881)\n",
      "minDCF : 0.1043 (threshold 0.3907 p-target=0.05, c-miss=1, c-fa=1)\n",
      "[0.62927622 0.54291166 0.6525611  0.49725677 0.64592041]\n",
      "[1 0 1 0 1]\n",
      "[0.94413144 0.71492776 0.96669036 0.48534587 0.9612912 ]\n"
     ]
    }
   ],
   "source": [
    "from netcal.scaling import TemperatureScaling\n",
    "\n",
    "temperature = TemperatureScaling()\n",
    "\n",
    "confidences=np.array(list(scores.values()))\n",
    "ground_truth=np.array(list(labels.values()))\n",
    "\n",
    "compute_eer(confidences, ground_truth)\n",
    "compute_minDCF(confidences, ground_truth)\n",
    "\n",
    "confidences = sigmoid(confidences)\n",
    "print(confidences[:5])\n",
    "print(ground_truth[:5])\n",
    "temperature.fit(confidences, ground_truth)\n",
    "calibrated = temperature.transform(confidences)\n",
    "print(calibrated[:5])"
   ]
  },
  {
   "cell_type": "code",
   "execution_count": 64,
   "metadata": {},
   "outputs": [
    {
     "name": "stdout",
     "output_type": "stream",
     "text": [
      "0.39419344243197585\n",
      "0.2791039339559425\n"
     ]
    }
   ],
   "source": [
    "from netcal.metrics import ECE\n",
    "\n",
    "n_bins = 10\n",
    "\n",
    "ece = ECE(n_bins)\n",
    "uncalibrated_score = ece.measure(confidences, ground_truth)\n",
    "calibrated_score = ece.measure(calibrated, ground_truth)\n",
    "print(uncalibrated_score)\n",
    "print(calibrated_score)"
   ]
  },
  {
   "cell_type": "code",
   "execution_count": null,
   "metadata": {},
   "outputs": [],
   "source": []
  },
  {
   "cell_type": "code",
   "execution_count": 65,
   "metadata": {},
   "outputs": [
    {
     "name": "stdout",
     "output_type": "stream",
     "text": [
      "EER : 1.5642 (threshold 0.5715)\n",
      "minDCF : 0.1043 (threshold 0.5965 p-target=0.05, c-miss=1, c-fa=1)\n",
      "EER : 1.5642 (threshold 0.8234)\n",
      "minDCF : 0.1043 (threshold 0.8897 p-target=0.05, c-miss=1, c-fa=1)\n"
     ]
    },
    {
     "data": {
      "text/plain": [
       "(0.10429480381760269, 0.8897064667825073)"
      ]
     },
     "execution_count": 65,
     "metadata": {},
     "output_type": "execute_result"
    }
   ],
   "source": [
    "compute_eer(confidences, ground_truth)\n",
    "compute_minDCF(confidences, ground_truth)\n",
    "compute_eer(calibrated, ground_truth)\n",
    "compute_minDCF(calibrated, ground_truth)"
   ]
  },
  {
   "cell_type": "code",
   "execution_count": null,
   "metadata": {},
   "outputs": [],
   "source": []
  },
  {
   "cell_type": "code",
   "execution_count": 66,
   "metadata": {},
   "outputs": [
    {
     "name": "stdout",
     "output_type": "stream",
     "text": [
      "EER : 1.5642 (threshold 0.2881)\n",
      "minDCF : 0.1043 (threshold 0.3907 p-target=0.05, c-miss=1, c-fa=1)\n",
      "[0.62927622 0.54291166 0.6525611  0.49725677 0.64592041]\n",
      "[1 0 1 0 1]\n",
      "[9.99247448e-01 3.38781438e-02 9.99962055e-01 1.57658711e-04\n",
      " 9.99910245e-01]\n",
      "0.39419344243197585\n",
      "0.0017143520692864834\n",
      "EER : 1.5642 (threshold 0.5715)\n",
      "minDCF : 0.1043 (threshold 0.5965 p-target=0.05, c-miss=1, c-fa=1)\n",
      "EER : 1.5642 (threshold 0.5191)\n",
      "minDCF : 0.1043 (threshold 0.9571 p-target=0.05, c-miss=1, c-fa=1)\n"
     ]
    },
    {
     "data": {
      "text/plain": [
       "(0.10429480381760269, 0.957100052740726)"
      ]
     },
     "execution_count": 66,
     "metadata": {},
     "output_type": "execute_result"
    }
   ],
   "source": [
    "from netcal.scaling import LogisticCalibration\n",
    "\n",
    "temperature = LogisticCalibration()\n",
    "\n",
    "confidences=np.array(list(scores.values()))\n",
    "ground_truth=np.array(list(labels.values()))\n",
    "\n",
    "compute_eer(confidences, ground_truth)\n",
    "compute_minDCF(confidences, ground_truth)\n",
    "\n",
    "confidences = sigmoid(confidences)\n",
    "print(confidences[:5])\n",
    "print(ground_truth[:5])\n",
    "temperature.fit(confidences, ground_truth)\n",
    "calibrated = temperature.transform(confidences)\n",
    "print(calibrated[:5])\n",
    "\n",
    "\n",
    "\n",
    "from netcal.metrics import ECE\n",
    "\n",
    "n_bins = 10\n",
    "\n",
    "ece = ECE(n_bins)\n",
    "uncalibrated_score = ece.measure(confidences, ground_truth)\n",
    "calibrated_score = ece.measure(calibrated, ground_truth)\n",
    "print(uncalibrated_score)\n",
    "print(calibrated_score)\n",
    "\n",
    "\n",
    "\n",
    "compute_eer(confidences, ground_truth)\n",
    "compute_minDCF(confidences, ground_truth)\n",
    "compute_eer(calibrated, ground_truth)\n",
    "compute_minDCF(calibrated, ground_truth)"
   ]
  },
  {
   "cell_type": "code",
   "execution_count": null,
   "metadata": {},
   "outputs": [],
   "source": []
  },
  {
   "cell_type": "code",
   "execution_count": 67,
   "metadata": {},
   "outputs": [
    {
     "name": "stdout",
     "output_type": "stream",
     "text": [
      "EER : 1.5642 (threshold 0.2881)\n",
      "minDCF : 0.1043 (threshold 0.3907 p-target=0.05, c-miss=1, c-fa=1)\n",
      "[0.62927622 0.54291166 0.6525611  0.49725677 0.64592041]\n",
      "[1 0 1 0 1]\n",
      "[9.99656380e-01 3.41837632e-02 9.99992266e-01 3.73315954e-04\n",
      " 9.99976300e-01]\n",
      "0.39419344243197585\n",
      "0.000810633288483189\n",
      "EER : 1.5642 (threshold 0.5715)\n",
      "minDCF : 0.1043 (threshold 0.5965 p-target=0.05, c-miss=1, c-fa=1)\n",
      "EER : 1.5642 (threshold 0.4960)\n",
      "minDCF : 0.1043 (threshold 0.9611 p-target=0.05, c-miss=1, c-fa=1)\n"
     ]
    },
    {
     "data": {
      "text/plain": [
       "(0.10429480381760269, 0.9610692510711454)"
      ]
     },
     "execution_count": 67,
     "metadata": {},
     "output_type": "execute_result"
    }
   ],
   "source": [
    "from netcal.scaling import LogisticCalibrationDependent\n",
    "\n",
    "temperature = LogisticCalibrationDependent()\n",
    "\n",
    "confidences=np.array(list(scores.values()))\n",
    "ground_truth=np.array(list(labels.values()))\n",
    "\n",
    "compute_eer(confidences, ground_truth)\n",
    "compute_minDCF(confidences, ground_truth)\n",
    "\n",
    "confidences = sigmoid(confidences)\n",
    "print(confidences[:5])\n",
    "print(ground_truth[:5])\n",
    "temperature.fit(confidences, ground_truth)\n",
    "calibrated = temperature.transform(confidences)\n",
    "print(calibrated[:5])\n",
    "\n",
    "\n",
    "\n",
    "from netcal.metrics import ECE\n",
    "\n",
    "n_bins = 10\n",
    "\n",
    "ece = ECE(n_bins)\n",
    "uncalibrated_score = ece.measure(confidences, ground_truth)\n",
    "calibrated_score = ece.measure(calibrated, ground_truth)\n",
    "print(uncalibrated_score)\n",
    "print(calibrated_score)\n",
    "\n",
    "\n",
    "\n",
    "compute_eer(confidences, ground_truth)\n",
    "compute_minDCF(confidences, ground_truth)\n",
    "compute_eer(calibrated, ground_truth)\n",
    "compute_minDCF(calibrated, ground_truth)"
   ]
  },
  {
   "cell_type": "code",
   "execution_count": null,
   "metadata": {},
   "outputs": [],
   "source": []
  },
  {
   "cell_type": "code",
   "execution_count": 69,
   "metadata": {},
   "outputs": [
    {
     "name": "stdout",
     "output_type": "stream",
     "text": [
      "EER : 1.5642 (threshold 0.2881)\n",
      "minDCF : 0.1043 (threshold 0.3907 p-target=0.05, c-miss=1, c-fa=1)\n",
      "[0.62927622 0.54291166 0.6525611  0.49725677 0.64592041]\n",
      "[1 0 1 0 1]\n",
      "[0.6652677  0.41297121 0.72655389 0.29120327 0.70966818]\n",
      "0.39419344243197585\n",
      "0.3015747651564614\n",
      "EER : 1.5642 (threshold 0.5715)\n",
      "minDCF : 0.1043 (threshold 0.5965 p-target=0.05, c-miss=1, c-fa=1)\n",
      "EER : 1.5642 (threshold 0.4970)\n",
      "minDCF : 0.1043 (threshold 0.5712 p-target=0.05, c-miss=1, c-fa=1)\n"
     ]
    },
    {
     "data": {
      "text/plain": [
       "(0.10429480381760269, 0.5711511782412166)"
      ]
     },
     "execution_count": 69,
     "metadata": {},
     "output_type": "execute_result"
    }
   ],
   "source": [
    "from netcal.scaling import BetaCalibrationDependent\n",
    "\n",
    "temperature = BetaCalibrationDependent()\n",
    "\n",
    "confidences=np.array(list(scores.values()))\n",
    "ground_truth=np.array(list(labels.values()))\n",
    "\n",
    "compute_eer(confidences, ground_truth)\n",
    "compute_minDCF(confidences, ground_truth)\n",
    "\n",
    "confidences = sigmoid(confidences)\n",
    "print(confidences[:5])\n",
    "print(ground_truth[:5])\n",
    "temperature.fit(confidences, ground_truth)\n",
    "calibrated = temperature.transform(confidences)\n",
    "print(calibrated[:5])\n",
    "\n",
    "\n",
    "\n",
    "from netcal.metrics import ECE\n",
    "\n",
    "n_bins = 10\n",
    "\n",
    "ece = ECE(n_bins)\n",
    "uncalibrated_score = ece.measure(confidences, ground_truth)\n",
    "calibrated_score = ece.measure(calibrated, ground_truth)\n",
    "print(uncalibrated_score)\n",
    "print(calibrated_score)\n",
    "\n",
    "\n",
    "\n",
    "compute_eer(confidences, ground_truth)\n",
    "compute_minDCF(confidences, ground_truth)\n",
    "compute_eer(calibrated, ground_truth)\n",
    "compute_minDCF(calibrated, ground_truth)"
   ]
  },
  {
   "cell_type": "code",
   "execution_count": null,
   "metadata": {},
   "outputs": [],
   "source": []
  },
  {
   "cell_type": "code",
   "execution_count": 71,
   "metadata": {},
   "outputs": [
    {
     "name": "stdout",
     "output_type": "stream",
     "text": [
      "EER : 1.5642 (threshold 0.2881)\n",
      "minDCF : 0.1043 (threshold 0.3907 p-target=0.05, c-miss=1, c-fa=1)\n",
      "[0.62927622 0.54291166 0.6525611  0.49725677 0.64592041]\n",
      "[1 0 1 0 1]\n",
      "[9.99245898e-01 3.36240887e-02 9.99961626e-01 1.52296572e-04\n",
      " 9.99909512e-01]\n",
      "ECE\n",
      "0.39419344243197585\n",
      "0.001676487051697433\n",
      "EER : 1.5642 (threshold 0.5715)\n",
      "minDCF : 0.1043 (threshold 0.5965 p-target=0.05, c-miss=1, c-fa=1)\n",
      "EER : 1.5642 (threshold 0.5193)\n",
      "minDCF : 0.1043 (threshold 0.9572 p-target=0.05, c-miss=1, c-fa=1)\n"
     ]
    },
    {
     "data": {
      "text/plain": [
       "(0.10429480381760269, 0.9572189085467742)"
      ]
     },
     "execution_count": 71,
     "metadata": {},
     "output_type": "execute_result"
    }
   ],
   "source": [
    "from netcal.scaling import BetaCalibration\n",
    "\n",
    "temperature = BetaCalibration()\n",
    "\n",
    "confidences=np.array(list(scores.values()))\n",
    "ground_truth=np.array(list(labels.values()))\n",
    "\n",
    "compute_eer(confidences, ground_truth)\n",
    "compute_minDCF(confidences, ground_truth)\n",
    "\n",
    "confidences = sigmoid(confidences)\n",
    "print(confidences[:5])\n",
    "print(ground_truth[:5])\n",
    "temperature.fit(confidences, ground_truth)\n",
    "calibrated = temperature.transform(confidences)\n",
    "print(calibrated[:5])\n",
    "\n",
    "\n",
    "\n",
    "from netcal.metrics import ECE\n",
    "\n",
    "n_bins = 10\n",
    "\n",
    "ece = ECE(n_bins)\n",
    "uncalibrated_score = ece.measure(confidences, ground_truth)\n",
    "calibrated_score = ece.measure(calibrated, ground_truth)\n",
    "print('ECE')\n",
    "print(uncalibrated_score)\n",
    "print(calibrated_score)\n",
    "\n",
    "\n",
    "\n",
    "compute_eer(confidences, ground_truth)\n",
    "compute_minDCF(confidences, ground_truth)\n",
    "compute_eer(calibrated, ground_truth)\n",
    "compute_minDCF(calibrated, ground_truth)"
   ]
  },
  {
   "cell_type": "code",
   "execution_count": null,
   "metadata": {},
   "outputs": [],
   "source": []
  },
  {
   "cell_type": "code",
   "execution_count": 72,
   "metadata": {},
   "outputs": [
    {
     "name": "stdout",
     "output_type": "stream",
     "text": [
      "EER : 1.5642 (threshold 0.2881)\n",
      "minDCF : 0.1043 (threshold 0.3907 p-target=0.05, c-miss=1, c-fa=1)\n",
      "[0.62927622 0.54291166 0.6525611  0.49725677 0.64592041]\n",
      "[1 0 1 0 1]\n",
      "[1. 0. 1. 0. 1.]\n",
      "ECE\n",
      "0.39419344243197585\n",
      "2.6511134676453126e-05\n",
      "EER : 1.5642 (threshold 0.5715)\n",
      "minDCF : 0.1043 (threshold 0.5965 p-target=0.05, c-miss=1, c-fa=1)\n",
      "EER : 0.0053 (threshold 0.9999)\n",
      "minDCF : 0.0001 (threshold 0.0000 p-target=0.05, c-miss=1, c-fa=1)\n"
     ]
    },
    {
     "data": {
      "text/plain": [
       "(5.302226935312831e-05, 0.0)"
      ]
     },
     "execution_count": 72,
     "metadata": {},
     "output_type": "execute_result"
    }
   ],
   "source": [
    "from netcal.binning import NearIsotonicRegression\n",
    "\n",
    "temperature = NearIsotonicRegression()\n",
    "\n",
    "confidences=np.array(list(scores.values()))\n",
    "ground_truth=np.array(list(labels.values()))\n",
    "\n",
    "compute_eer(confidences, ground_truth)\n",
    "compute_minDCF(confidences, ground_truth)\n",
    "\n",
    "confidences = sigmoid(confidences)\n",
    "print(confidences[:5])\n",
    "print(ground_truth[:5])\n",
    "temperature.fit(confidences, ground_truth)\n",
    "calibrated = temperature.transform(confidences)\n",
    "print(calibrated[:5])\n",
    "\n",
    "\n",
    "\n",
    "from netcal.metrics import ECE\n",
    "\n",
    "n_bins = 10\n",
    "\n",
    "ece = ECE(n_bins)\n",
    "uncalibrated_score = ece.measure(confidences, ground_truth)\n",
    "calibrated_score = ece.measure(calibrated, ground_truth)\n",
    "print('ECE')\n",
    "print(uncalibrated_score)\n",
    "print(calibrated_score)\n",
    "\n",
    "\n",
    "\n",
    "compute_eer(confidences, ground_truth)\n",
    "compute_minDCF(confidences, ground_truth)\n",
    "compute_eer(calibrated, ground_truth)\n",
    "compute_minDCF(calibrated, ground_truth)"
   ]
  },
  {
   "cell_type": "code",
   "execution_count": null,
   "metadata": {},
   "outputs": [],
   "source": []
  },
  {
   "cell_type": "code",
   "execution_count": 80,
   "metadata": {},
   "outputs": [
    {
     "name": "stdout",
     "output_type": "stream",
     "text": [
      "EER : 1.5642 (threshold 0.2881)\n",
      "minDCF : 0.1043 (threshold 0.3907 p-target=0.05, c-miss=1, c-fa=1)\n",
      "[0.62927622 0.54291166 0.6525611  0.49725677 0.64592041]\n",
      "[1 0 1 0 1]\n",
      "[1. 0. 1. 0. 1.]\n",
      "ECE\n",
      "0.39419344243197585\n",
      "2.6511134676453126e-05\n",
      "EER : 1.5642 (threshold 0.5715)\n",
      "minDCF : 0.1043 (threshold 0.5965 p-target=0.05, c-miss=1, c-fa=1)\n",
      "EER : 0.0053 (threshold 0.9999)\n",
      "minDCF : 0.0001 (threshold 0.0000 p-target=0.05, c-miss=1, c-fa=1)\n"
     ]
    },
    {
     "data": {
      "text/plain": [
       "(5.302226935312831e-05, 0.0)"
      ]
     },
     "execution_count": 80,
     "metadata": {},
     "output_type": "execute_result"
    }
   ],
   "source": [
    "from netcal.binning import NearIsotonicRegression\n",
    "\n",
    "temperature = NearIsotonicRegression(quick_init=False)\n",
    "\n",
    "confidences=np.array(list(scores.values()))\n",
    "ground_truth=np.array(list(labels.values()))\n",
    "\n",
    "compute_eer(confidences, ground_truth)\n",
    "compute_minDCF(confidences, ground_truth)\n",
    "\n",
    "confidences = sigmoid(confidences)\n",
    "print(confidences[:5])\n",
    "print(ground_truth[:5])\n",
    "temperature.fit(confidences, ground_truth)\n",
    "calibrated = temperature.transform(confidences)\n",
    "print(calibrated[:5])\n",
    "\n",
    "\n",
    "\n",
    "from netcal.metrics import ECE\n",
    "\n",
    "n_bins = 10\n",
    "\n",
    "ece = ECE(n_bins)\n",
    "uncalibrated_score = ece.measure(confidences, ground_truth)\n",
    "calibrated_score = ece.measure(calibrated, ground_truth)\n",
    "print('ECE')\n",
    "print(uncalibrated_score)\n",
    "print(calibrated_score)\n",
    "\n",
    "\n",
    "\n",
    "compute_eer(confidences, ground_truth)\n",
    "compute_minDCF(confidences, ground_truth)\n",
    "compute_eer(calibrated, ground_truth)\n",
    "compute_minDCF(calibrated, ground_truth)"
   ]
  },
  {
   "cell_type": "code",
   "execution_count": null,
   "metadata": {},
   "outputs": [],
   "source": []
  },
  {
   "cell_type": "code",
   "execution_count": 73,
   "metadata": {},
   "outputs": [
    {
     "name": "stdout",
     "output_type": "stream",
     "text": [
      "EER : 1.5642 (threshold 0.2881)\n",
      "minDCF : 0.1043 (threshold 0.3907 p-target=0.05, c-miss=1, c-fa=1)\n",
      "[0.62927622 0.54291166 0.6525611  0.49725677 0.64592041]\n",
      "[1 0 1 0 1]\n",
      "[9.99655172e-01 3.86473430e-02 1.00000000e+00 8.33472245e-04\n",
      " 1.00000000e+00]\n",
      "ECE\n",
      "0.39419344243197585\n",
      "2.2139293020518855e-14\n",
      "EER : 1.5642 (threshold 0.5715)\n",
      "minDCF : 0.1043 (threshold 0.5965 p-target=0.05, c-miss=1, c-fa=1)\n",
      "EER : 1.5476 (threshold 0.5612)\n",
      "minDCF : 0.1024 (threshold 0.9447 p-target=0.05, c-miss=1, c-fa=1)\n"
     ]
    },
    {
     "data": {
      "text/plain": [
       "(0.10243902439024383, 0.9447236180904522)"
      ]
     },
     "execution_count": 73,
     "metadata": {},
     "output_type": "execute_result"
    }
   ],
   "source": [
    "from netcal.binning import IsotonicRegression\n",
    "\n",
    "temperature = IsotonicRegression()\n",
    "\n",
    "confidences=np.array(list(scores.values()))\n",
    "ground_truth=np.array(list(labels.values()))\n",
    "\n",
    "compute_eer(confidences, ground_truth)\n",
    "compute_minDCF(confidences, ground_truth)\n",
    "\n",
    "confidences = sigmoid(confidences)\n",
    "print(confidences[:5])\n",
    "print(ground_truth[:5])\n",
    "temperature.fit(confidences, ground_truth)\n",
    "calibrated = temperature.transform(confidences)\n",
    "print(calibrated[:5])\n",
    "\n",
    "\n",
    "\n",
    "from netcal.metrics import ECE\n",
    "\n",
    "n_bins = 10\n",
    "\n",
    "ece = ECE(n_bins)\n",
    "uncalibrated_score = ece.measure(confidences, ground_truth)\n",
    "calibrated_score = ece.measure(calibrated, ground_truth)\n",
    "print('ECE')\n",
    "print(uncalibrated_score)\n",
    "print(calibrated_score)\n",
    "\n",
    "\n",
    "\n",
    "compute_eer(confidences, ground_truth)\n",
    "compute_minDCF(confidences, ground_truth)\n",
    "compute_eer(calibrated, ground_truth)\n",
    "compute_minDCF(calibrated, ground_truth)"
   ]
  },
  {
   "cell_type": "code",
   "execution_count": null,
   "metadata": {},
   "outputs": [],
   "source": []
  },
  {
   "cell_type": "code",
   "execution_count": null,
   "metadata": {},
   "outputs": [],
   "source": []
  },
  {
   "cell_type": "code",
   "execution_count": 78,
   "metadata": {},
   "outputs": [
    {
     "name": "stdout",
     "output_type": "stream",
     "text": [
      "EER : 1.5642 (threshold 0.2881)\n",
      "minDCF : 0.1043 (threshold 0.3907 p-target=0.05, c-miss=1, c-fa=1)\n",
      "[0.62927622 0.54291166 0.6525611  0.49725677 0.64592041]\n",
      "[1 0 1 0 1]\n",
      "[0.99900182 0.14152772 0.99900182 0.00115652 0.99900182]\n",
      "ECE\n",
      "0.39419344243197585\n",
      "4.3554405962008853e-14\n",
      "EER : 1.5642 (threshold 0.5715)\n",
      "minDCF : 0.1043 (threshold 0.5965 p-target=0.05, c-miss=1, c-fa=1)\n",
      "EER : 8.3608 (threshold 0.8782)\n",
      "minDCF : 0.1144 (threshold 0.1415 p-target=0.05, c-miss=1, c-fa=1)\n"
     ]
    },
    {
     "data": {
      "text/plain": [
       "(0.11436903499469787, 0.14152772392400156)"
      ]
     },
     "execution_count": 78,
     "metadata": {},
     "output_type": "execute_result"
    }
   ],
   "source": [
    "from netcal.binning import HistogramBinning\n",
    "\n",
    "temperature = HistogramBinning(bins=10)\n",
    "\n",
    "confidences=np.array(list(scores.values()))\n",
    "ground_truth=np.array(list(labels.values()))\n",
    "\n",
    "compute_eer(confidences, ground_truth)\n",
    "compute_minDCF(confidences, ground_truth)\n",
    "\n",
    "confidences = sigmoid(confidences)\n",
    "print(confidences[:5])\n",
    "print(ground_truth[:5])\n",
    "temperature.fit(confidences, ground_truth)\n",
    "calibrated = temperature.transform(confidences)\n",
    "print(calibrated[:5])\n",
    "\n",
    "\n",
    "\n",
    "from netcal.metrics import ECE\n",
    "\n",
    "n_bins = 10\n",
    "\n",
    "ece = ECE(n_bins)\n",
    "uncalibrated_score = ece.measure(confidences, ground_truth)\n",
    "calibrated_score = ece.measure(calibrated, ground_truth)\n",
    "print('ECE')\n",
    "print(uncalibrated_score)\n",
    "print(calibrated_score)\n",
    "\n",
    "\n",
    "\n",
    "compute_eer(confidences, ground_truth)\n",
    "compute_minDCF(confidences, ground_truth)\n",
    "compute_eer(calibrated, ground_truth)\n",
    "compute_minDCF(calibrated, ground_truth)"
   ]
  },
  {
   "cell_type": "code",
   "execution_count": null,
   "metadata": {},
   "outputs": [],
   "source": []
  },
  {
   "cell_type": "code",
   "execution_count": 79,
   "metadata": {},
   "outputs": [
    {
     "ename": "ValueError",
     "evalue": "Parameter 'equal_intervals=False' is currently not implemented.",
     "output_type": "error",
     "traceback": [
      "\u001b[0;31m---------------------------------------------------------------------------\u001b[0m",
      "\u001b[0;31mValueError\u001b[0m                                Traceback (most recent call last)",
      "\u001b[0;32m<ipython-input-79-a2818e9d368a>\u001b[0m in \u001b[0;36m<module>\u001b[0;34m\u001b[0m\n\u001b[1;32m      1\u001b[0m \u001b[0;32mfrom\u001b[0m \u001b[0mnetcal\u001b[0m\u001b[0;34m.\u001b[0m\u001b[0mbinning\u001b[0m \u001b[0;32mimport\u001b[0m \u001b[0mHistogramBinning\u001b[0m\u001b[0;34m\u001b[0m\u001b[0m\n\u001b[1;32m      2\u001b[0m \u001b[0;34m\u001b[0m\u001b[0m\n\u001b[0;32m----> 3\u001b[0;31m \u001b[0mtemperature\u001b[0m \u001b[0;34m=\u001b[0m \u001b[0mHistogramBinning\u001b[0m\u001b[0;34m(\u001b[0m\u001b[0mbins\u001b[0m\u001b[0;34m=\u001b[0m\u001b[0;36m10000\u001b[0m\u001b[0;34m,\u001b[0m \u001b[0mequal_intervals\u001b[0m\u001b[0;34m=\u001b[0m\u001b[0;32mFalse\u001b[0m\u001b[0;34m)\u001b[0m\u001b[0;34m\u001b[0m\u001b[0m\n\u001b[0m\u001b[1;32m      4\u001b[0m \u001b[0;34m\u001b[0m\u001b[0m\n\u001b[1;32m      5\u001b[0m \u001b[0mconfidences\u001b[0m\u001b[0;34m=\u001b[0m\u001b[0mnp\u001b[0m\u001b[0;34m.\u001b[0m\u001b[0marray\u001b[0m\u001b[0;34m(\u001b[0m\u001b[0mlist\u001b[0m\u001b[0;34m(\u001b[0m\u001b[0mscores\u001b[0m\u001b[0;34m.\u001b[0m\u001b[0mvalues\u001b[0m\u001b[0;34m(\u001b[0m\u001b[0;34m)\u001b[0m\u001b[0;34m)\u001b[0m\u001b[0;34m)\u001b[0m\u001b[0;34m\u001b[0m\u001b[0m\n",
      "\u001b[0;32m/nfs/project/zhanghui/spk/voxceleb_trainer/tools/venv/lib/python3.6/site-packages/netcal/Decorator.py\u001b[0m in \u001b[0;36mnew_f\u001b[0;34m(*args, **kwds)\u001b[0m\n\u001b[1;32m     34\u001b[0m                 \u001b[0;32melse\u001b[0m\u001b[0;34m:\u001b[0m\u001b[0;34m\u001b[0m\u001b[0m\n\u001b[1;32m     35\u001b[0m                     \u001b[0;32massert\u001b[0m \u001b[0misinstance\u001b[0m\u001b[0;34m(\u001b[0m\u001b[0ma\u001b[0m\u001b[0;34m,\u001b[0m \u001b[0mt\u001b[0m\u001b[0;34m)\u001b[0m\u001b[0;34m,\u001b[0m \u001b[0;34m\"arg \\'%s\\' does not match %s\"\u001b[0m \u001b[0;34m%\u001b[0m \u001b[0;34m(\u001b[0m\u001b[0mf\u001b[0m\u001b[0;34m.\u001b[0m\u001b[0m__code__\u001b[0m\u001b[0;34m.\u001b[0m\u001b[0mco_varnames\u001b[0m\u001b[0;34m[\u001b[0m\u001b[0mi\u001b[0m\u001b[0;34m]\u001b[0m\u001b[0;34m,\u001b[0m\u001b[0mt\u001b[0m\u001b[0;34m)\u001b[0m\u001b[0;34m\u001b[0m\u001b[0m\n\u001b[0;32m---> 36\u001b[0;31m             \u001b[0;32mreturn\u001b[0m \u001b[0mf\u001b[0m\u001b[0;34m(\u001b[0m\u001b[0;34m*\u001b[0m\u001b[0margs\u001b[0m\u001b[0;34m,\u001b[0m \u001b[0;34m**\u001b[0m\u001b[0mkwds\u001b[0m\u001b[0;34m)\u001b[0m\u001b[0;34m\u001b[0m\u001b[0m\n\u001b[0m\u001b[1;32m     37\u001b[0m         \u001b[0mnew_f\u001b[0m\u001b[0;34m.\u001b[0m\u001b[0m__name__\u001b[0m \u001b[0;34m=\u001b[0m \u001b[0mf\u001b[0m\u001b[0;34m.\u001b[0m\u001b[0m__name__\u001b[0m\u001b[0;34m\u001b[0m\u001b[0m\n\u001b[1;32m     38\u001b[0m         \u001b[0;32mreturn\u001b[0m \u001b[0mnew_f\u001b[0m\u001b[0;34m\u001b[0m\u001b[0m\n",
      "\u001b[0;32m/nfs/project/zhanghui/spk/voxceleb_trainer/tools/venv/lib/python3.6/site-packages/netcal/binning/HistogramBinning.py\u001b[0m in \u001b[0;36m__init__\u001b[0;34m(self, bins, equal_intervals, detection, independent_probabilities)\u001b[0m\n\u001b[1;32m     92\u001b[0m \u001b[0;34m\u001b[0m\u001b[0m\n\u001b[1;32m     93\u001b[0m         \u001b[0;32mif\u001b[0m \u001b[0;32mnot\u001b[0m \u001b[0mself\u001b[0m\u001b[0;34m.\u001b[0m\u001b[0mequal_intervals\u001b[0m\u001b[0;34m:\u001b[0m\u001b[0;34m\u001b[0m\u001b[0m\n\u001b[0;32m---> 94\u001b[0;31m             \u001b[0;32mraise\u001b[0m \u001b[0mValueError\u001b[0m\u001b[0;34m(\u001b[0m\u001b[0;34m\"Parameter \\'equal_intervals=False\\' is currently not implemented.\"\u001b[0m\u001b[0;34m)\u001b[0m\u001b[0;34m\u001b[0m\u001b[0m\n\u001b[0m\u001b[1;32m     95\u001b[0m \u001b[0;34m\u001b[0m\u001b[0m\n\u001b[1;32m     96\u001b[0m         \u001b[0;31m# for multi class calibration with K classes, K binary calibration models are needed\u001b[0m\u001b[0;34m\u001b[0m\u001b[0;34m\u001b[0m\u001b[0m\n",
      "\u001b[0;31mValueError\u001b[0m: Parameter 'equal_intervals=False' is currently not implemented."
     ]
    }
   ],
   "source": [
    "from netcal.binning import HistogramBinning\n",
    "\n",
    "temperature = HistogramBinning(bins=10000, equal_intervals=False)\n",
    "\n",
    "confidences=np.array(list(scores.values()))\n",
    "ground_truth=np.array(list(labels.values()))\n",
    "\n",
    "compute_eer(confidences, ground_truth)\n",
    "compute_minDCF(confidences, ground_truth)\n",
    "\n",
    "confidences = sigmoid(confidences)\n",
    "print(confidences[:5])\n",
    "print(ground_truth[:5])\n",
    "temperature.fit(confidences, ground_truth)\n",
    "calibrated = temperature.transform(confidences)\n",
    "print(calibrated[:5])\n",
    "\n",
    "\n",
    "\n",
    "from netcal.metrics import ECE\n",
    "\n",
    "n_bins = 10\n",
    "\n",
    "ece = ECE(n_bins)\n",
    "uncalibrated_score = ece.measure(confidences, ground_truth)\n",
    "calibrated_score = ece.measure(calibrated, ground_truth)\n",
    "print('ECE')\n",
    "print(uncalibrated_score)\n",
    "print(calibrated_score)\n",
    "\n",
    "\n",
    "\n",
    "compute_eer(confidences, ground_truth)\n",
    "compute_minDCF(confidences, ground_truth)\n",
    "compute_eer(calibrated, ground_truth)\n",
    "compute_minDCF(calibrated, ground_truth)"
   ]
  },
  {
   "cell_type": "code",
   "execution_count": null,
   "metadata": {},
   "outputs": [],
   "source": []
  },
  {
   "cell_type": "code",
   "execution_count": 77,
   "metadata": {},
   "outputs": [
    {
     "name": "stdout",
     "output_type": "stream",
     "text": [
      "EER : 1.5642 (threshold 0.2881)\n",
      "minDCF : 0.1043 (threshold 0.3907 p-target=0.05, c-miss=1, c-fa=1)\n",
      "[0.62927622 0.54291166 0.6525611  0.49725677 0.64592041]\n",
      "[1 0 1 0 1]\n",
      "[1.         0.05882353 1.         0.         1.        ]\n",
      "ECE\n",
      "0.39419344243197585\n",
      "2.0996086703232436e-16\n",
      "EER : 1.5642 (threshold 0.5715)\n",
      "minDCF : 0.1043 (threshold 0.5965 p-target=0.05, c-miss=1, c-fa=1)\n",
      "EER : 1.3494 (threshold 0.5412)\n",
      "minDCF : 0.0627 (threshold 0.9333 p-target=0.05, c-miss=1, c-fa=1)\n"
     ]
    },
    {
     "data": {
      "text/plain": [
       "(0.06272534464475145, 0.9333333333333333)"
      ]
     },
     "execution_count": 77,
     "metadata": {},
     "output_type": "execute_result"
    }
   ],
   "source": [
    "from netcal.binning import HistogramBinning\n",
    "\n",
    "temperature = HistogramBinning(bins=10000)\n",
    "\n",
    "confidences=np.array(list(scores.values()))\n",
    "ground_truth=np.array(list(labels.values()))\n",
    "\n",
    "compute_eer(confidences, ground_truth)\n",
    "compute_minDCF(confidences, ground_truth)\n",
    "\n",
    "confidences = sigmoid(confidences)\n",
    "print(confidences[:5])\n",
    "print(ground_truth[:5])\n",
    "temperature.fit(confidences, ground_truth)\n",
    "calibrated = temperature.transform(confidences)\n",
    "print(calibrated[:5])\n",
    "\n",
    "\n",
    "\n",
    "from netcal.metrics import ECE\n",
    "\n",
    "n_bins = 10\n",
    "\n",
    "ece = ECE(n_bins)\n",
    "uncalibrated_score = ece.measure(confidences, ground_truth)\n",
    "calibrated_score = ece.measure(calibrated, ground_truth)\n",
    "print('ECE')\n",
    "print(uncalibrated_score)\n",
    "print(calibrated_score)\n",
    "\n",
    "\n",
    "\n",
    "compute_eer(confidences, ground_truth)\n",
    "compute_minDCF(confidences, ground_truth)\n",
    "compute_eer(calibrated, ground_truth)\n",
    "compute_minDCF(calibrated, ground_truth)"
   ]
  },
  {
   "cell_type": "code",
   "execution_count": null,
   "metadata": {},
   "outputs": [],
   "source": []
  },
  {
   "cell_type": "code",
   "execution_count": 81,
   "metadata": {},
   "outputs": [
    {
     "name": "stdout",
     "output_type": "stream",
     "text": [
      "EER : 1.5642 (threshold 0.2881)\n",
      "minDCF : 0.1043 (threshold 0.3907 p-target=0.05, c-miss=1, c-fa=1)\n",
      "[0.62927622 0.54291166 0.6525611  0.49725677 0.64592041]\n",
      "[1 0 1 0 1]\n",
      "[9.99655172e-01 3.68563686e-02 1.00000000e+00 8.11339547e-04\n",
      " 1.00000000e+00]\n",
      "ECE\n",
      "0.39419344243197585\n",
      "0.0008472998093048646\n",
      "EER : 1.5642 (threshold 0.5715)\n",
      "minDCF : 0.1043 (threshold 0.5965 p-target=0.05, c-miss=1, c-fa=1)\n",
      "EER : 1.5023 (threshold 0.5619)\n",
      "minDCF : 0.0984 (threshold 0.9463 p-target=0.05, c-miss=1, c-fa=1)\n"
     ]
    },
    {
     "data": {
      "text/plain": [
       "(0.09840933191940544, 0.9463483146067425)"
      ]
     },
     "execution_count": 81,
     "metadata": {},
     "output_type": "execute_result"
    }
   ],
   "source": [
    "from netcal.binning import ENIR\n",
    "\n",
    "temperature = ENIR()\n",
    "\n",
    "confidences=np.array(list(scores.values()))\n",
    "ground_truth=np.array(list(labels.values()))\n",
    "\n",
    "compute_eer(confidences, ground_truth)\n",
    "compute_minDCF(confidences, ground_truth)\n",
    "\n",
    "confidences = sigmoid(confidences)\n",
    "print(confidences[:5])\n",
    "print(ground_truth[:5])\n",
    "temperature.fit(confidences, ground_truth)\n",
    "calibrated = temperature.transform(confidences)\n",
    "print(calibrated[:5])\n",
    "\n",
    "\n",
    "\n",
    "from netcal.metrics import ECE\n",
    "\n",
    "n_bins = 10\n",
    "\n",
    "ece = ECE(n_bins)\n",
    "uncalibrated_score = ece.measure(confidences, ground_truth)\n",
    "calibrated_score = ece.measure(calibrated, ground_truth)\n",
    "print('ECE')\n",
    "print(uncalibrated_score)\n",
    "print(calibrated_score)\n",
    "\n",
    "\n",
    "\n",
    "compute_eer(confidences, ground_truth)\n",
    "compute_minDCF(confidences, ground_truth)\n",
    "compute_eer(calibrated, ground_truth)\n",
    "compute_minDCF(calibrated, ground_truth)"
   ]
  },
  {
   "cell_type": "code",
   "execution_count": null,
   "metadata": {},
   "outputs": [],
   "source": []
  },
  {
   "cell_type": "code",
   "execution_count": 83,
   "metadata": {},
   "outputs": [
    {
     "name": "stdout",
     "output_type": "stream",
     "text": [
      "EER : 1.5642 (threshold 0.2881)\n"
     ]
    },
    {
     "name": "stderr",
     "output_type": "stream",
     "text": [
      " 12%|█▏        | 41/334 [00:00<00:00, 401.54it/s]"
     ]
    },
    {
     "name": "stdout",
     "output_type": "stream",
     "text": [
      "minDCF : 0.1043 (threshold 0.3907 p-target=0.05, c-miss=1, c-fa=1)\n",
      "[0.62927622 0.54291166 0.6525611  0.49725677 0.64592041]\n",
      "[1 0 1 0 1]\n"
     ]
    },
    {
     "name": "stderr",
     "output_type": "stream",
     "text": [
      "100%|██████████| 334/334 [00:01<00:00, 294.95it/s]\n"
     ]
    },
    {
     "name": "stdout",
     "output_type": "stream",
     "text": [
      "[9.99637414e-01 4.28904102e-02 1.00000000e+00 2.85715643e-06\n",
      " 1.00000000e+00]\n",
      "ECE\n",
      "0.39419344243197585\n",
      "0.0005970402972306234\n",
      "EER : 1.5642 (threshold 0.5715)\n",
      "minDCF : 0.1043 (threshold 0.5965 p-target=0.05, c-miss=1, c-fa=1)\n",
      "EER : 1.5585 (threshold 0.4776)\n",
      "minDCF : 0.1026 (threshold 0.9666 p-target=0.05, c-miss=1, c-fa=1)\n"
     ]
    },
    {
     "data": {
      "text/plain": [
       "(0.1025980911983035, 0.9665664423173169)"
      ]
     },
     "execution_count": 83,
     "metadata": {},
     "output_type": "execute_result"
    }
   ],
   "source": [
    "from netcal.binning import BBQ\n",
    "\n",
    "temperature = BBQ(score_function='AIC')\n",
    "\n",
    "confidences=np.array(list(scores.values()))\n",
    "ground_truth=np.array(list(labels.values()))\n",
    "\n",
    "compute_eer(confidences, ground_truth)\n",
    "compute_minDCF(confidences, ground_truth)\n",
    "\n",
    "confidences = sigmoid(confidences)\n",
    "print(confidences[:5])\n",
    "print(ground_truth[:5])\n",
    "temperature.fit(confidences, ground_truth)\n",
    "calibrated = temperature.transform(confidences)\n",
    "print(calibrated[:5])\n",
    "\n",
    "\n",
    "\n",
    "from netcal.metrics import ECE\n",
    "\n",
    "n_bins = 10\n",
    "\n",
    "ece = ECE(n_bins)\n",
    "uncalibrated_score = ece.measure(confidences, ground_truth)\n",
    "calibrated_score = ece.measure(calibrated, ground_truth)\n",
    "print('ECE')\n",
    "print(uncalibrated_score)\n",
    "print(calibrated_score)\n",
    "\n",
    "\n",
    "\n",
    "compute_eer(confidences, ground_truth)\n",
    "compute_minDCF(confidences, ground_truth)\n",
    "compute_eer(calibrated, ground_truth)\n",
    "compute_minDCF(calibrated, ground_truth)"
   ]
  },
  {
   "cell_type": "code",
   "execution_count": null,
   "metadata": {},
   "outputs": [],
   "source": []
  },
  {
   "cell_type": "code",
   "execution_count": 93,
   "metadata": {},
   "outputs": [
    {
     "data": {
      "image/png": "[encoded data removed]",
      "text/plain": [
       "<Figure size 432x288 with 2 Axes>"
      ]
     },
     "execution_count": 93,
     "metadata": {},
     "output_type": "execute_result"
    },
    {
     "data": {
      "image/png": "[encoded data removed]",
      "text/plain": [
       "<Figure size 432x288 with 2 Axes>"
      ]
     },
     "metadata": {
      "needs_background": "light"
     },
     "output_type": "display_data"
    }
   ],
   "source": [
    "from netcal.presentation import ReliabilityDiagram\n",
    "\n",
    "#n_bins = [10, 10]\n",
    "n_bins= [100]\n",
    "\n",
    "diagram = ReliabilityDiagram(n_bins, detection=False)    # flag 'detection=True' is mandatory for this method\n",
    "diagram.plot(confidences, ground_truth)                # visualize miscalibration of uncalibrated"
   ]
  },
  {
   "cell_type": "code",
   "execution_count": 94,
   "metadata": {},
   "outputs": [
    {
     "data": {
      "image/png": "[encoded data removed]",
      "text/plain": [
       "<Figure size 432x288 with 2 Axes>"
      ]
     },
     "execution_count": 94,
     "metadata": {},
     "output_type": "execute_result"
    },
    {
     "data": {
      "image/png": "[encoded data removed]",
      "text/plain": [
       "<Figure size 432x288 with 2 Axes>"
      ]
     },
     "metadata": {
      "needs_background": "light"
     },
     "output_type": "display_data"
    }
   ],
   "source": [
    "diagram.plot(calibrated, ground_truth)     # visualize miscalibration of calibrated"
   ]
  },
  {
   "cell_type": "code",
   "execution_count": null,
   "metadata": {},
   "outputs": [],
   "source": []
  },
  {
   "cell_type": "code",
   "execution_count": 97,
   "metadata": {},
   "outputs": [
    {
     "data": {
      "image/png": "[encoded data removed]",
      "text/plain": [
       "<Figure size 432x288 with 2 Axes>"
      ]
     },
     "execution_count": 97,
     "metadata": {},
     "output_type": "execute_result"
    },
    {
     "data": {
      "image/png": "[encoded data removed]",
      "text/plain": [
       "<Figure size 432x288 with 2 Axes>"
      ]
     },
     "metadata": {
      "needs_background": "light"
     },
     "output_type": "display_data"
    }
   ],
   "source": [
    "from netcal.presentation import ReliabilityDiagram\n",
    "\n",
    "#n_bins = [10, 10]\n",
    "n_bins= [10]\n",
    "\n",
    "diagram = ReliabilityDiagram(n_bins, detection=False)    # flag 'detection=True' is mandatory for this method\n",
    "diagram.plot(confidences, ground_truth)                # visualize miscalibration of uncalibrated"
   ]
  },
  {
   "cell_type": "code",
   "execution_count": 98,
   "metadata": {},
   "outputs": [
    {
     "data": {
      "image/png": "[encoded data removed]",
      "text/plain": [
       "<Figure size 432x288 with 2 Axes>"
      ]
     },
     "execution_count": 98,
     "metadata": {},
     "output_type": "execute_result"
    },
    {
     "data": {
      "image/png": "[encoded data removed]",
      "text/plain": [
       "<Figure size 432x288 with 2 Axes>"
      ]
     },
     "metadata": {
      "needs_background": "light"
     },
     "output_type": "display_data"
    }
   ],
   "source": [
    "diagram.plot(calibrated, ground_truth)     # visualize miscalibration of calibrated"
   ]
  },
  {
   "cell_type": "code",
   "execution_count": null,
   "metadata": {},
   "outputs": [],
   "source": []
  }
 ],
 "metadata": {
  "kernelspec": {
   "display_name": "Python 3",
   "language": "python",
   "name": "python3"
  },
  "language_info": {
   "codemirror_mode": {
    "name": "ipython",
    "version": 3
   },
   "file_extension": ".py",
   "mimetype": "text/x-python",
   "name": "python",
   "nbconvert_exporter": "python",
   "pygments_lexer": "ipython3",
   "version": "3.6.6"
  }
 },
 "nbformat": 4,
 "nbformat_minor": 4
}
